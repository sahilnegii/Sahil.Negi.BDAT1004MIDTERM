{
 "cells": [
  {
   "cell_type": "code",
   "execution_count": 9,
   "id": "f2ba0d6e",
   "metadata": {},
   "outputs": [],
   "source": [
    "import math\n",
    "\n",
    "class Point:\n",
    "    def __init__(self, x=0, y=0): # Default constructor\n",
    "        self.x = x\n",
    "        self.y = y\n",
    "\n",
    "class Segment:\n",
    "    def __init__(self, p1, p2): # Parameterized constructor\n",
    "        self.p1 = p1\n",
    "        self.p2 = p2\n",
    "\n",
    "    def length(self):\n",
    "        # To calculate difference between the two points\n",
    "        x_coordinates = self.p2.x - self.p1.x\n",
    "        y_coordinates = self.p2.y - self.p1.y\n",
    "\n",
    "        distance = math.sqrt(x_coordinates**2 + y_coordinates**2) # Applying Pythagorean theorem\n",
    "\n",
    "        return distance\n",
    "\n",
    "    def slope(self):\n",
    "        try:\n",
    "            return (self.p2.x - self.p1.x) / (self.p2.y - self.p1.y)\n",
    "        except ZeroDivisionError: # Apply excepection handling to avoid division by zero\n",
    "            return None"
   ]
  },
  {
   "cell_type": "code",
   "execution_count": 10,
   "id": "eed44ef2",
   "metadata": {},
   "outputs": [],
   "source": [
    "# Executing Test Cases\n",
    "\n",
    "p1 = Point(3, 4)\n",
    "p2 = Point()\n",
    "s = Segment(p1, p2)"
   ]
  },
  {
   "cell_type": "code",
   "execution_count": 11,
   "id": "2d4fd95b",
   "metadata": {},
   "outputs": [
    {
     "name": "stdout",
     "output_type": "stream",
     "text": [
      "5.0\n"
     ]
    }
   ],
   "source": [
    "print(s.length())  # Expected Output as per question: 5.0"
   ]
  },
  {
   "cell_type": "code",
   "execution_count": 12,
   "id": "5b1ada7a",
   "metadata": {},
   "outputs": [
    {
     "name": "stdout",
     "output_type": "stream",
     "text": [
      "0.75\n"
     ]
    }
   ],
   "source": [
    "print(s.slope())  # Expected Output as per question: 0.75"
   ]
  }
 ],
 "metadata": {
  "kernelspec": {
   "display_name": "Python 3 (ipykernel)",
   "language": "python",
   "name": "python3"
  },
  "language_info": {
   "codemirror_mode": {
    "name": "ipython",
    "version": 3
   },
   "file_extension": ".py",
   "mimetype": "text/x-python",
   "name": "python",
   "nbconvert_exporter": "python",
   "pygments_lexer": "ipython3",
   "version": "3.11.4"
  }
 },
 "nbformat": 4,
 "nbformat_minor": 5
}
