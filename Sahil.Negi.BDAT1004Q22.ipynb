{
 "cells": [
  {
   "cell_type": "code",
   "execution_count": 5,
   "id": "51abad3e",
   "metadata": {},
   "outputs": [],
   "source": [
    "import sqlite3\n",
    "\n",
    "# Creating the database \n",
    "conn = sqlite3.connect('weather_data.db')\n",
    "cur = conn.cursor()"
   ]
  },
  {
   "cell_type": "code",
   "execution_count": 6,
   "id": "59a94679",
   "metadata": {},
   "outputs": [
    {
     "data": {
      "text/plain": [
       "<sqlite3.Cursor at 0x1fa1c11b840>"
      ]
     },
     "execution_count": 6,
     "metadata": {},
     "output_type": "execute_result"
    }
   ],
   "source": [
    "# Deleting if the table already exists\n",
    "cur.execute('''DROP TABLE IF EXISTS Weather''')\n",
    "\n",
    "# Creating the table\n",
    "cur.execute('''\n",
    "    CREATE TABLE Weather (\n",
    "        id INTEGER PRIMARY KEY,\n",
    "        recordDate DATE,\n",
    "        temperature INTEGER)\n",
    "        ''')"
   ]
  },
  {
   "cell_type": "code",
   "execution_count": 7,
   "id": "8fa978d3",
   "metadata": {},
   "outputs": [],
   "source": [
    "given_data = [\n",
    "    (1, '2015-01-01', 10),\n",
    "    (2, '2015-01-02', 25),\n",
    "    (3, '2015-01-03', 20),\n",
    "    (4, '2015-01-04', 30)\n",
    "]\n",
    "\n",
    "# Inserting the data into the table\n",
    "cur.executemany('INSERT INTO Weather (id, recordDate, temperature) VALUES (?, ?, ?)', given_data)\n",
    "conn.commit()"
   ]
  },
  {
   "cell_type": "code",
   "execution_count": 8,
   "id": "c3e70767",
   "metadata": {},
   "outputs": [
    {
     "name": "stdout",
     "output_type": "stream",
     "text": [
      "id\n",
      "2\n",
      "4\n"
     ]
    }
   ],
   "source": [
    "# Defining the SQL query to solve the problem\n",
    "query = '''\n",
    "        SELECT w1.id\n",
    "        FROM Weather w1\n",
    "        JOIN Weather w2 ON DATE(w1.recordDate) = DATE(w2.recordDate, '+1 day')\n",
    "        WHERE w1.temperature > w2.temperature\n",
    "        '''\n",
    "\n",
    "cur.execute(query)\n",
    "\n",
    "# Printing the SQL Query results\n",
    "rows = cur.fetchall()\n",
    "print(\"id\")\n",
    "for row in rows:\n",
    "    print(row[0])\n",
    "    \n",
    "# Closing the database connection\n",
    "conn.close()\n"
   ]
  }
 ],
 "metadata": {
  "kernelspec": {
   "display_name": "Python 3 (ipykernel)",
   "language": "python",
   "name": "python3"
  },
  "language_info": {
   "codemirror_mode": {
    "name": "ipython",
    "version": 3
   },
   "file_extension": ".py",
   "mimetype": "text/x-python",
   "name": "python",
   "nbconvert_exporter": "python",
   "pygments_lexer": "ipython3",
   "version": "3.11.4"
  }
 },
 "nbformat": 4,
 "nbformat_minor": 5
}
